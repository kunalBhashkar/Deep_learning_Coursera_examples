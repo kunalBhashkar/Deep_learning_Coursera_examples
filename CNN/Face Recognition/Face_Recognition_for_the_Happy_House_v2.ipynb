{
 "cells": [
  {
   "cell_type": "markdown",
   "metadata": {},
   "source": [
    "### Face Recognition for the Happy House\n",
    "\n",
    "Here we will build a face recognition system. \n",
    "\n",
    "The Detail of Face recognition technology you can find in my blog:\n",
    "\n",
    "https://medium.com/@BhashkarKunal/face-recognition-real-time-webcam-face-recognition-system-using-deep-learning-algorithm-and-98cf8254def7\n",
    "\n",
    "FaceNet learns a neural network that encodes a face image into a vector of 128 numbers. By comparing two such vectors, you can then determine if two pictures are of the same person.\n",
    "    \n",
    "**In this assignment, you will:**\n",
    "- Implement the triplet loss function\n",
    "- Use a pretrained model to map face images into 128-dimensional encodings\n",
    "- Use these encodings to perform face verification and face recognition\n",
    "\n",
    "In this example, we will be using a pre-trained model which represents ConvNet activations using a \"channels first\" convention, as opposed to the \"channels last\" convention used in lecture and previous programming assignments. In other words, a batch of images will be of shape $(m, n_C, n_H, n_W)$ instead of $(m, n_H, n_W, n_C)$. Both of these conventions have a reasonable amount of traction among open-source implementations; there isn't a uniform standard yet within the deep learning community. "
   ]
  },
  {
   "cell_type": "code",
   "execution_count": 10,
   "metadata": {},
   "outputs": [],
   "source": [
    "#import packages\n",
    "import numpy as np\n",
    "import h5py\n",
    "\n",
    "from keras import layers\n",
    "from keras.layers import Input, Dense, Activation, ZeroPadding2D, BatchNormalization, Flatten, Conv2D\n",
    "from keras.layers import AveragePooling2D, MaxPooling2D\n",
    "from keras.models import Model\n",
    "from keras.preprocessing import image\n",
    "from keras.utils import layer_utils\n",
    "from keras.utils.data_utils import get_file\n",
    "from keras.applications.imagenet_utils import preprocess_input\n",
    "from keras.models import Sequential\n",
    "import pydot\n",
    "from IPython.display import SVG\n",
    "from keras.utils.vis_utils import model_to_dot\n",
    "from keras.utils import plot_model\n",
    "\n",
    "\n",
    "import keras.backend as K\n",
    "K.set_image_data_format('channels_last')\n",
    "import matplotlib.pyplot as plt\n",
    "from matplotlib.pyplot import imshow\n",
    "\n",
    "%matplotlib inline"
   ]
  },
  {
   "cell_type": "code",
   "execution_count": 11,
   "metadata": {},
   "outputs": [],
   "source": [
    "def load_dataset():\n",
    "    train_data = h5py.File('./datasets/train_happy.h5', \"r\")\n",
    "    X_train = np.array(train_data[\"train_set_x\"][:]) \n",
    "    y_train = np.array(train_data[\"train_set_y\"][:]) \n",
    "\n",
    "    test_data = h5py.File('./datasets/test_happy.h5', \"r\")\n",
    "    X_test = np.array(test_data[\"test_set_x\"][:])\n",
    "    y_test = np.array(test_data[\"test_set_y\"][:]) \n",
    "    \n",
    "    y_train = y_train.reshape((1, y_train.shape[0]))\n",
    "    y_test = y_test.reshape((1, y_test.shape[0]))\n",
    "    \n",
    "    return X_train, y_train, X_test, y_test"
   ]
  },
  {
   "cell_type": "code",
   "execution_count": 12,
   "metadata": {},
   "outputs": [
    {
     "name": "stdout",
     "output_type": "stream",
     "text": [
      "number of training examples = 600\n",
      "number of test examples = 150\n",
      "X_train shape: (600, 64, 64, 3)\n",
      "Y_train shape: (600, 1)\n",
      "X_test shape: (150, 64, 64, 3)\n",
      "Y_test shape: (150, 1)\n"
     ]
    }
   ],
   "source": [
    "X_train_orig, Y_train_orig, X_test_orig, Y_test_orig = load_dataset()\n",
    "\n",
    "# Normalize image vectors\n",
    "X_train = X_train_orig/255.\n",
    "X_test = X_test_orig/255.\n",
    "\n",
    "# Reshape\n",
    "Y_train = Y_train_orig.T\n",
    "Y_test = Y_test_orig.T\n",
    "\n",
    "print (\"number of training examples = \" + str(X_train.shape[0]))\n",
    "print (\"number of test examples = \" + str(X_test.shape[0]))\n",
    "print (\"X_train shape: \" + str(X_train.shape))\n",
    "print (\"Y_train shape: \" + str(Y_train.shape))\n",
    "print (\"X_test shape: \" + str(X_test.shape))\n",
    "print (\"Y_test shape: \" + str(Y_test.shape))"
   ]
  },
  {
   "cell_type": "markdown",
   "metadata": {},
   "source": [
    "### Naive Face Verification\n",
    "\n",
    "In Face Verification, we're given two images and we have to tell if they are of the same person. The simplest way to do this is to compare the two images pixel-by-pixel. If the distance between the raw images are less than a chosen threshold, it may be the same person! \n",
    "\n",
    "<img src=\"images/pixel_comparison.png\" style=\"width:380px;height:150px;\">\n",
    "<caption><center> <u> <font color='purple'> **Figure 1** </u></center></caption>"
   ]
  },
  {
   "cell_type": "markdown",
   "metadata": {},
   "source": [
    "### Encoding face images into a 128-dimensional vector \n",
    "\n",
    "### Using an ConvNet  to compute encodings\n",
    "\n",
    "The FaceNet model takes a lot of data and a long time to train. So following common practice in applied deep learning settings, let's just load weights that someone else has already trained. The network architecture follows the Inception model from [Szegedy *et al.*](https://arxiv.org/abs/1409.4842). We have provided an inception network implementation. You can look in the file `inception_blocks.py` to see how it is implemented (do so by going to \"File->Open...\" at the top of the Jupyter notebook)."
   ]
  },
  {
   "cell_type": "markdown",
   "metadata": {},
   "source": [
    "The key things you need to know are:\n",
    "\n",
    "- This network uses 96x96 dimensional RGB images as its input. Specifically, inputs a face image (or batch of $m$ face images) as a tensor of shape $(m, n_C, n_H, n_W) = (m, 3, 96, 96)$ \n",
    "- It outputs a matrix of shape $(m, 128)$ that encodes each input face image into a 128-dimensional vector"
   ]
  },
  {
   "cell_type": "code",
   "execution_count": 13,
   "metadata": {},
   "outputs": [
    {
     "name": "stdout",
     "output_type": "stream",
     "text": [
      "Image shape : (64, 64, 3)\n"
     ]
    },
    {
     "data": {
      "text/plain": [
       "<matplotlib.image.AxesImage at 0x15363b47e88>"
      ]
     },
     "execution_count": 13,
     "metadata": {},
     "output_type": "execute_result"
    },
    {
     "data": {
      "image/png": "[encoded data removed]",
      "text/plain": [
       "<Figure size 432x288 with 1 Axes>"
      ]
     },
     "metadata": {
      "needs_background": "light"
     },
     "output_type": "display_data"
    }
   ],
   "source": [
    "# Sample image from dataset\n",
    "print(\"Image shape :\",X_train_orig[10].shape)\n",
    "imshow(X_train_orig[10])"
   ]
  },
  {
   "cell_type": "code",
   "execution_count": 14,
   "metadata": {},
   "outputs": [],
   "source": [
    "#Model Building\n",
    "# GRADED FUNCTION: HappyModel\n",
    "\n",
    "def HappyModel(input_shape):\n",
    "    \n",
    "    X_input = Input(input_shape)\n",
    "    \n",
    "    X = ZeroPadding2D((3,3))(X_input)\n",
    "    \n",
    "    # CONV -> BN -> RELU Block applied to X\n",
    "    X = Conv2D(32, (7,7), strides=(1,1), name='Conv2D')(X)\n",
    "    X = BatchNormalization(axis=3, name='bn0')(X)\n",
    "    X = Activation('relu')(X)\n",
    "    \n",
    "    X = MaxPooling2D((2,2), name='max_pool')(X)\n",
    "    \n",
    "    X = Flatten()(X)\n",
    "    X = Dense(1, activation='sigmoid', name='fc')(X)\n",
    "    \n",
    "    model = Model(inputs = X_input, outputs=X, name='HappyModel')\n",
    "        \n",
    "    return model"
   ]
  },
  {
   "cell_type": "code",
   "execution_count": 57,
   "metadata": {},
   "outputs": [],
   "source": [
    "# # Model flow chart\n",
    "# happyModel = HappyModel(X_train[0].shape)\n",
    "# plot_model(happyModel, to_file='HappyModel.png')\n",
    "# SVG(model_to_dot(happyModel).create(prog='dot', format='svg'))"
   ]
  },
  {
   "cell_type": "code",
   "execution_count": 16,
   "metadata": {},
   "outputs": [
    {
     "name": "stdout",
     "output_type": "stream",
     "text": [
      "Model: \"HappyModel\"\n",
      "_________________________________________________________________\n",
      "Layer (type)                 Output Shape              Param #   \n",
      "=================================================================\n",
      "input_3 (InputLayer)         (None, 64, 64, 3)         0         \n",
      "_________________________________________________________________\n",
      "zero_padding2d_3 (ZeroPaddin (None, 70, 70, 3)         0         \n",
      "_________________________________________________________________\n",
      "Conv2D (Conv2D)              (None, 64, 64, 32)        4736      \n",
      "_________________________________________________________________\n",
      "bn0 (BatchNormalization)     (None, 64, 64, 32)        128       \n",
      "_________________________________________________________________\n",
      "activation_3 (Activation)    (None, 64, 64, 32)        0         \n",
      "_________________________________________________________________\n",
      "max_pool (MaxPooling2D)      (None, 32, 32, 32)        0         \n",
      "_________________________________________________________________\n",
      "flatten_3 (Flatten)          (None, 32768)             0         \n",
      "_________________________________________________________________\n",
      "fc (Dense)                   (None, 1)                 32769     \n",
      "=================================================================\n",
      "Total params: 37,633\n",
      "Trainable params: 37,569\n",
      "Non-trainable params: 64\n",
      "_________________________________________________________________\n"
     ]
    }
   ],
   "source": [
    "happyModel.summary()"
   ]
  },
  {
   "cell_type": "markdown",
   "metadata": {},
   "source": [
    "By using a 128-neuron fully connected layer as its last layer, the model ensures that the output is an encoding vector of size 128. You then use the encodings the compare two face images as follows:\n",
    "\n",
    "<img src=\"images/distance_kiank.png\" style=\"width:680px;height:250px;\">\n",
    "<caption><center> <u> <font color='purple'> **Figure 2**: <br> </u> <font color='purple'> By computing a distance between two encodings and thresholding, you can determine if the two pictures represent the same person</center></caption>\n",
    "\n",
    "So, an encoding is a good one if: \n",
    "- The encodings of two images of the same person are quite similar to each other \n",
    "- The encodings of two images of different persons are very different\n",
    "\n",
    "The triplet loss function formalizes this, and tries to \"push\" the encodings of two images of the same person (Anchor and Positive) closer together, while \"pulling\" the encodings of two images of different persons (Anchor, Negative) further apart. \n",
    "\n",
    "<img src=\"images/triplet_comparison.png\" style=\"width:280px;height:150px;\">\n",
    "<br>\n",
    "<caption><center> <u> <font color='purple'> **Figure 3**: <br> </u> <font color='purple'> In the next part, we will call the pictures from left to right: Anchor (A), Positive (P), Negative (N)  </center></caption>"
   ]
  },
  {
   "cell_type": "markdown",
   "metadata": {},
   "source": [
    "### The Triplet Loss\n",
    "\n",
    "For an image $x$, we denote its encoding $f(x)$, where $f$ is the function computed by the neural network.\n",
    "\n",
    "<img src=\"images/f_x.png\" style=\"width:380px;height:150px;\">\n",
    "\n",
    "<!--\n",
    "We will also add a normalization step at the end of our model so that $\\mid \\mid f(x) \\mid \\mid_2 = 1$ (means the vector of encoding should be of norm 1).\n",
    "!-->\n",
    "\n",
    "Training will use triplets of images $(A, P, N)$:  \n",
    "\n",
    "- A is an \"Anchor\" image--a picture of a person. \n",
    "- P is a \"Positive\" image--a picture of the same person as the Anchor image.\n",
    "- N is a \"Negative\" image--a picture of a different person than the Anchor image.\n",
    "\n",
    "These triplets are picked from our training dataset. We will write $(A^{(i)}, P^{(i)}, N^{(i)})$ to denote the $i$-th training example. \n",
    "\n",
    "You'd like to make sure that an image $A^{(i)}$ of an individual is closer to the Positive $P^{(i)}$ than to the Negative image $N^{(i)}$) by at least a margin $\\alpha$:\n",
    "\n",
    "$$\\mid \\mid f(A^{(i)}) - f(P^{(i)}) \\mid \\mid_2^2 + \\alpha < \\mid \\mid f(A^{(i)}) - f(N^{(i)}) \\mid \\mid_2^2$$\n",
    "\n",
    "You would thus like to minimize the following \"triplet cost\":\n",
    "\n",
    "$$\\mathcal{J} = \\sum^{N}_{i=1} \\large[ \\small \\underbrace{\\mid \\mid f(A^{(i)}) - f(P^{(i)}) \\mid \\mid_2^2}_\\text{(1)} - \\underbrace{\\mid \\mid f(A^{(i)}) - f(N^{(i)}) \\mid \\mid_2^2}_\\text{(2)} + \\alpha \\large ] \\small_+ \\tag{3}$$\n",
    "\n",
    "Here, we are using the notation \"$[z]_+$\" to denote $max(z,0)$.  \n",
    "\n",
    "Notes:\n",
    "- The term (1) is the squared distance between the anchor \"A\" and the positive \"P\" for a given triplet; you want this to be small. \n",
    "- The term (2) is the squared distance between the anchor \"A\" and the negative \"N\" for a given triplet, you want this to be relatively large, so it thus makes sense to have a minus sign preceding it. \n",
    "- $\\alpha$ is called the margin. It is a hyperparameter that you should pick manually. We will use $\\alpha = 0.2$. \n",
    "\n",
    "Most implementations also normalize the encoding vectors  to have norm equal one (i.e., $\\mid \\mid f(img)\\mid \\mid_2$=1); you won't have to worry about that here.\n",
    "\n",
    "Implement the triplet loss as defined by formula (3). Here are the 4 steps:\n",
    "1. Compute the distance between the encodings of \"anchor\" and \"positive\": $\\mid \\mid f(A^{(i)}) - f(P^{(i)}) \\mid \\mid_2^2$\n",
    "2. Compute the distance between the encodings of \"anchor\" and \"negative\": $\\mid \\mid f(A^{(i)}) - f(N^{(i)}) \\mid \\mid_2^2$\n",
    "3. Compute the formula per training example: $ \\mid \\mid f(A^{(i)}) - f(P^{(i)}) \\mid - \\mid \\mid f(A^{(i)}) - f(N^{(i)}) \\mid \\mid_2^2 + \\alpha$\n",
    "3. Compute the full formula by taking the max with zero and summing over the training examples:\n",
    "$$\\mathcal{J} = \\sum^{N}_{i=1} \\large[ \\small \\mid \\mid f(A^{(i)}) - f(P^{(i)}) \\mid \\mid_2^2 - \\mid \\mid f(A^{(i)}) - f(N^{(i)}) \\mid \\mid_2^2+ \\alpha \\large ] \\small_+ \\tag{3}$$\n",
    "\n",
    "Useful functions: `tf.reduce_sum()`, `tf.square()`, `tf.subtract()`, `tf.add()`, `tf.reduce_mean`, `tf.maximum()`."
   ]
  },
  {
   "cell_type": "code",
   "execution_count": null,
   "metadata": {},
   "outputs": [],
   "source": []
  },
  {
   "cell_type": "markdown",
   "metadata": {},
   "source": [
    "### Predicting using various Optimizers"
   ]
  },
  {
   "cell_type": "code",
   "execution_count": 17,
   "metadata": {},
   "outputs": [],
   "source": [
    "happyModel_sgd = HappyModel(X_train.shape[1:])\n",
    "happyModel_sgd.compile(optimizer='sgd', loss='binary_crossentropy', metrics=[\"accuracy\"])"
   ]
  },
  {
   "cell_type": "code",
   "execution_count": 18,
   "metadata": {},
   "outputs": [
    {
     "name": "stdout",
     "output_type": "stream",
     "text": [
      "WARNING:tensorflow:From C:\\Users\\Kunal\\Anaconda3\\envs\\gputest\\lib\\site-packages\\tensorflow\\python\\ops\\math_ops.py:3066: to_int32 (from tensorflow.python.ops.math_ops) is deprecated and will be removed in a future version.\n",
      "Instructions for updating:\n",
      "Use tf.cast instead.\n",
      "Epoch 1/5\n",
      "600/600 [==============================] - 7s 11ms/step - loss: 7.4348 - acc: 0.4950\n",
      "Epoch 2/5\n",
      "600/600 [==============================] - 6s 10ms/step - loss: 8.0590 - acc: 0.5000\n",
      "Epoch 3/5\n",
      "600/600 [==============================] - 6s 10ms/step - loss: 8.0590 - acc: 0.5000\n",
      "Epoch 4/5\n",
      "600/600 [==============================] - 6s 10ms/step - loss: 8.0590 - acc: 0.5000\n",
      "Epoch 5/5\n",
      "600/600 [==============================] - 6s 10ms/step - loss: 8.0590 - acc: 0.5000\n"
     ]
    }
   ],
   "source": [
    "history_sgd = happyModel_sgd.fit(X_train,Y_train, epochs=5,batch_size=30)"
   ]
  },
  {
   "cell_type": "code",
   "execution_count": 19,
   "metadata": {},
   "outputs": [
    {
     "data": {
      "text/plain": [
       "<matplotlib.legend.Legend at 0x15365374b88>"
      ]
     },
     "execution_count": 19,
     "metadata": {},
     "output_type": "execute_result"
    },
    {
     "data": {
      "image/png": "[encoded data removed]",
      "text/plain": [
       "<Figure size 432x288 with 1 Axes>"
      ]
     },
     "metadata": {
      "needs_background": "light"
     },
     "output_type": "display_data"
    },
    {
     "data": {
      "image/png": "[encoded data removed]",
      "text/plain": [
       "<Figure size 432x288 with 1 Axes>"
      ]
     },
     "metadata": {
      "needs_background": "light"
     },
     "output_type": "display_data"
    }
   ],
   "source": [
    "train_accuracy = history_sgd.history['acc']\n",
    "train_loss = history_sgd.history['loss']\n",
    "\n",
    "iterations = range(len(train_accuracy))\n",
    "plt.plot(iterations, train_accuracy, label='Training accuracy')\n",
    "plt.title('epochs vs Training accuracy')\n",
    "plt.legend()\n",
    "\n",
    "plt.figure()\n",
    "plt.plot(iterations, train_loss, label='Training Loss')\n",
    "plt.title('epochs vs Training Loss')\n",
    "plt.legend()"
   ]
  },
  {
   "cell_type": "code",
   "execution_count": 20,
   "metadata": {},
   "outputs": [
    {
     "name": "stdout",
     "output_type": "stream",
     "text": [
      "150/150 [==============================] - 1s 4ms/step\n",
      "\n",
      "Loss = 9.026133677164713\n",
      "Test Accuracy = 0.4400000015894572\n"
     ]
    }
   ],
   "source": [
    "preds = happyModel_sgd.evaluate(x=X_test, y=Y_test)\n",
    "\n",
    "print (\"\\nLoss = \" + str(preds[0]))\n",
    "print (\"Test Accuracy = \" + str(preds[1]))"
   ]
  },
  {
   "cell_type": "code",
   "execution_count": 21,
   "metadata": {},
   "outputs": [],
   "source": [
    "#RMS Optimizer\n",
    "happyModel_rms = HappyModel(X_train.shape[1:])\n",
    "happyModel_rms.compile(optimizer='RMSprop', loss='binary_crossentropy', metrics=[\"accuracy\"])"
   ]
  },
  {
   "cell_type": "code",
   "execution_count": 22,
   "metadata": {},
   "outputs": [
    {
     "name": "stdout",
     "output_type": "stream",
     "text": [
      "Epoch 1/5\n",
      "600/600 [==============================] - 6s 10ms/step - loss: 7.7711 - acc: 0.4933\n",
      "Epoch 2/5\n",
      "600/600 [==============================] - 6s 10ms/step - loss: 8.0590 - acc: 0.5000\n",
      "Epoch 3/5\n",
      "600/600 [==============================] - 6s 10ms/step - loss: 8.0590 - acc: 0.5000\n",
      "Epoch 4/5\n",
      "600/600 [==============================] - 6s 10ms/step - loss: 8.0590 - acc: 0.5000\n",
      "Epoch 5/5\n",
      "600/600 [==============================] - 6s 10ms/step - loss: 8.0590 - acc: 0.5000\n"
     ]
    }
   ],
   "source": [
    "history_rms = happyModel_rms.fit(X_train,Y_train, epochs=5,batch_size=30)"
   ]
  },
  {
   "cell_type": "code",
   "execution_count": 23,
   "metadata": {},
   "outputs": [
    {
     "data": {
      "text/plain": [
       "<matplotlib.legend.Legend at 0x15363fceb48>"
      ]
     },
     "execution_count": 23,
     "metadata": {},
     "output_type": "execute_result"
    },
    {
     "data": {
      "image/png": "[encoded data removed]",
      "text/plain": [
       "<Figure size 432x288 with 1 Axes>"
      ]
     },
     "metadata": {
      "needs_background": "light"
     },
     "output_type": "display_data"
    },
    {
     "data": {
      "image/png": "[encoded data removed]",
      "text/plain": [
       "<Figure size 432x288 with 1 Axes>"
      ]
     },
     "metadata": {
      "needs_background": "light"
     },
     "output_type": "display_data"
    }
   ],
   "source": [
    "train_accuracy = history_rms.history['acc']\n",
    "train_loss = history_rms.history['loss']\n",
    "\n",
    "iterations = range(len(train_accuracy))\n",
    "plt.plot(iterations, train_accuracy, label='Training accuracy')\n",
    "plt.title('epochs vs Training accuracy')\n",
    "plt.legend()\n",
    "\n",
    "plt.figure()\n",
    "plt.plot(iterations, train_loss, label='Training Loss')\n",
    "plt.title('epochs vs Training Loss')\n",
    "plt.legend()"
   ]
  },
  {
   "cell_type": "code",
   "execution_count": 24,
   "metadata": {},
   "outputs": [
    {
     "name": "stdout",
     "output_type": "stream",
     "text": [
      "150/150 [==============================] - 1s 4ms/step\n",
      "\n",
      "Loss = 9.026133677164713\n",
      "Test Accuracy = 0.4400000015894572\n"
     ]
    }
   ],
   "source": [
    "preds = happyModel_rms.evaluate(x=X_test, y=Y_test)\n",
    "\n",
    "print (\"\\nLoss = \" + str(preds[0]))\n",
    "print (\"Test Accuracy = \" + str(preds[1]))"
   ]
  },
  {
   "cell_type": "code",
   "execution_count": 25,
   "metadata": {},
   "outputs": [],
   "source": [
    "happyModel_adam = HappyModel(X_train[0].shape)\n",
    "happyModel_adam.compile(optimizer='Adam', loss='binary_crossentropy', metrics=[\"accuracy\"])"
   ]
  },
  {
   "cell_type": "code",
   "execution_count": 26,
   "metadata": {},
   "outputs": [
    {
     "name": "stdout",
     "output_type": "stream",
     "text": [
      "Epoch 1/5\n",
      "600/600 [==============================] - 7s 11ms/step - loss: 2.6389 - acc: 0.5817\n",
      "Epoch 2/5\n",
      "600/600 [==============================] - 6s 10ms/step - loss: 0.4496 - acc: 0.8083\n",
      "Epoch 3/5\n",
      "600/600 [==============================] - 6s 10ms/step - loss: 0.1891 - acc: 0.9300\n",
      "Epoch 4/5\n",
      "600/600 [==============================] - 6s 10ms/step - loss: 0.1499 - acc: 0.9533\n",
      "Epoch 5/5\n",
      "600/600 [==============================] - 6s 10ms/step - loss: 0.1126 - acc: 0.9650\n"
     ]
    }
   ],
   "source": [
    "history_adam = happyModel_adam.fit(X_train,Y_train, epochs=5,batch_size=30)"
   ]
  },
  {
   "cell_type": "code",
   "execution_count": 27,
   "metadata": {},
   "outputs": [
    {
     "data": {
      "text/plain": [
       "<matplotlib.legend.Legend at 0x153680fd988>"
      ]
     },
     "execution_count": 27,
     "metadata": {},
     "output_type": "execute_result"
    },
    {
     "data": {
      "image/png": "[encoded data removed]",
      "text/plain": [
       "<Figure size 432x288 with 1 Axes>"
      ]
     },
     "metadata": {
      "needs_background": "light"
     },
     "output_type": "display_data"
    },
    {
     "data": {
      "image/png": "[encoded data removed]",
      "text/plain": [
       "<Figure size 432x288 with 1 Axes>"
      ]
     },
     "metadata": {
      "needs_background": "light"
     },
     "output_type": "display_data"
    }
   ],
   "source": [
    "train_accuracy = history_adam.history['acc']\n",
    "train_loss = history_adam.history['loss']\n",
    "\n",
    "count = range(len(train_accuracy))\n",
    "plt.plot(count, train_accuracy, label='Training accuracy')\n",
    "plt.title('epochs vs Training accuracy')\n",
    "plt.legend()\n",
    "\n",
    "plt.figure()\n",
    "plt.plot(count, train_loss, label='Training Loss')\n",
    "plt.title('epochs vs Training Loss')\n",
    "plt.legend()"
   ]
  },
  {
   "cell_type": "code",
   "execution_count": 28,
   "metadata": {},
   "outputs": [
    {
     "name": "stdout",
     "output_type": "stream",
     "text": [
      "150/150 [==============================] - 1s 4ms/step\n",
      "\n",
      "Loss = 0.5940619619687398\n",
      "Test Accuracy = 0.7000000031789144\n"
     ]
    }
   ],
   "source": [
    "preds = happyModel_adam.evaluate(x=X_test, y=Y_test)\n",
    "\n",
    "print()\n",
    "print (\"Loss = \" + str(preds[0]))\n",
    "print (\"Test Accuracy = \" + str(preds[1]))"
   ]
  },
  {
   "cell_type": "markdown",
   "metadata": {},
   "source": [
    "### Face Recognition\n",
    "\n",
    "Implement `who_is_it()`. You will have to go through the following steps:\n",
    "1. Compute the target encoding of the image from image_path\n",
    "2. Find the encoding from the database that has smallest distance with the target encoding. \n",
    "    - Initialize the `min_dist` variable to a large enough number (100). It will help you keep track of what is the closest encoding to the input's encoding.\n",
    "    - Loop over the database dictionary's names and encodings. To loop use `for (name, db_enc) in database.items()`.\n",
    "        - Compute L2 distance between the target \"encoding\" and the current \"encoding\" from the database.\n",
    "        - If this distance is less than the min_dist, then set min_dist to dist, and identity to name."
   ]
  },
  {
   "cell_type": "markdown",
   "metadata": {},
   "source": [
    "#### Predicting with different epochs trained models"
   ]
  },
  {
   "cell_type": "code",
   "execution_count": 29,
   "metadata": {},
   "outputs": [],
   "source": [
    "happyModelE = HappyModel(X_train.shape[1:])\n",
    "happyModelE.compile(optimizer='Adam', loss='binary_crossentropy', metrics=[\"accuracy\"])"
   ]
  },
  {
   "cell_type": "code",
   "execution_count": 30,
   "metadata": {},
   "outputs": [
    {
     "name": "stdout",
     "output_type": "stream",
     "text": [
      "Epoch 1/20\n",
      "600/600 [==============================] - 7s 12ms/step - loss: 0.8732 - acc: 0.7017\n",
      "Epoch 2/20\n",
      "600/600 [==============================] - 6s 10ms/step - loss: 0.3801 - acc: 0.8483\n",
      "Epoch 3/20\n",
      "600/600 [==============================] - 6s 10ms/step - loss: 0.1968 - acc: 0.9383\n",
      "Epoch 4/20\n",
      "600/600 [==============================] - 6s 10ms/step - loss: 0.1177 - acc: 0.9567\n",
      "Epoch 5/20\n",
      "600/600 [==============================] - 6s 10ms/step - loss: 0.0973 - acc: 0.9583\n",
      "Epoch 6/20\n",
      "600/600 [==============================] - 6s 10ms/step - loss: 0.1067 - acc: 0.9550\n",
      "Epoch 7/20\n",
      "600/600 [==============================] - 6s 10ms/step - loss: 0.0800 - acc: 0.9767\n",
      "Epoch 8/20\n",
      "600/600 [==============================] - 6s 10ms/step - loss: 0.0709 - acc: 0.9800\n",
      "Epoch 9/20\n",
      "600/600 [==============================] - 6s 10ms/step - loss: 0.0574 - acc: 0.9833\n",
      "Epoch 10/20\n",
      "600/600 [==============================] - 6s 10ms/step - loss: 0.0611 - acc: 0.9817\n",
      "Epoch 11/20\n",
      "600/600 [==============================] - 6s 10ms/step - loss: 0.0504 - acc: 0.9817\n",
      "Epoch 12/20\n",
      "600/600 [==============================] - 6s 10ms/step - loss: 0.0417 - acc: 0.9867\n",
      "Epoch 13/20\n",
      "600/600 [==============================] - 6s 11ms/step - loss: 0.0373 - acc: 0.9883\n",
      "Epoch 14/20\n",
      "600/600 [==============================] - 6s 10ms/step - loss: 0.0348 - acc: 0.9883\n",
      "Epoch 15/20\n",
      "600/600 [==============================] - 6s 10ms/step - loss: 0.0192 - acc: 0.9983\n",
      "Epoch 16/20\n",
      "600/600 [==============================] - 6s 10ms/step - loss: 0.0227 - acc: 0.9933\n",
      "Epoch 17/20\n",
      "600/600 [==============================] - 6s 10ms/step - loss: 0.0390 - acc: 0.9867\n",
      "Epoch 18/20\n",
      "600/600 [==============================] - 6s 10ms/step - loss: 0.0276 - acc: 0.9933\n",
      "Epoch 19/20\n",
      "600/600 [==============================] - 6s 10ms/step - loss: 0.0239 - acc: 0.9950\n",
      "Epoch 20/20\n",
      "600/600 [==============================] - 6s 10ms/step - loss: 0.0307 - acc: 0.9883\n"
     ]
    }
   ],
   "source": [
    "THistoryE = happyModelE.fit(X_train,Y_train, epochs=20,batch_size=30)"
   ]
  },
  {
   "cell_type": "code",
   "execution_count": 31,
   "metadata": {},
   "outputs": [
    {
     "data": {
      "text/plain": [
       "<matplotlib.legend.Legend at 0x15368131f48>"
      ]
     },
     "execution_count": 31,
     "metadata": {},
     "output_type": "execute_result"
    },
    {
     "data": {
      "image/png": "[encoded data removed]",
      "text/plain": [
       "<Figure size 432x288 with 1 Axes>"
      ]
     },
     "metadata": {
      "needs_background": "light"
     },
     "output_type": "display_data"
    },
    {
     "data": {
      "image/png": "[encoded data removed]",
      "text/plain": [
       "<Figure size 432x288 with 1 Axes>"
      ]
     },
     "metadata": {
      "needs_background": "light"
     },
     "output_type": "display_data"
    }
   ],
   "source": [
    "train_accuracy = THistoryE.history['acc']\n",
    "train_loss = THistoryE.history['loss']\n",
    "\n",
    "iterations = range(len(train_accuracy))\n",
    "plt.plot(iterations, train_accuracy, label='Training accuracy')\n",
    "plt.title('epochs vs Training accuracy')\n",
    "plt.legend()\n",
    "\n",
    "plt.figure()\n",
    "plt.plot(iterations, train_loss, label='Training Loss')\n",
    "plt.title('epochs vs Training Loss')\n",
    "plt.legend()"
   ]
  },
  {
   "cell_type": "code",
   "execution_count": 32,
   "metadata": {},
   "outputs": [
    {
     "name": "stdout",
     "output_type": "stream",
     "text": [
      "150/150 [==============================] - 1s 4ms/step\n",
      "\n",
      "Loss = 0.1028983810544014\n",
      "Test Accuracy = 0.94\n"
     ]
    }
   ],
   "source": [
    "preds = happyModelE.evaluate(x=X_test, y=Y_test)\n",
    "\n",
    "print()\n",
    "print (\"Loss = \" + str(preds[0]))\n",
    "print (\"Test Accuracy = \" + str(preds[1]))"
   ]
  },
  {
   "cell_type": "code",
   "execution_count": 33,
   "metadata": {},
   "outputs": [],
   "source": [
    "y_pred = happyModelE.predict(X_test)"
   ]
  },
  {
   "cell_type": "code",
   "execution_count": 34,
   "metadata": {},
   "outputs": [],
   "source": [
    "y_pred[y_pred < 0.5] = 0\n",
    "y_pred[y_pred >= 0.5] = 1"
   ]
  },
  {
   "cell_type": "code",
   "execution_count": 35,
   "metadata": {},
   "outputs": [
    {
     "name": "stdout",
     "output_type": "stream",
     "text": [
      "[[63  3]\n",
      " [ 6 78]]\n"
     ]
    }
   ],
   "source": [
    "from sklearn.metrics import confusion_matrix\n",
    "cm = confusion_matrix(Y_test, y_pred)\n",
    "print(cm)"
   ]
  },
  {
   "cell_type": "code",
   "execution_count": 36,
   "metadata": {},
   "outputs": [],
   "source": [
    "happyModel3 = HappyModel(X_train.shape[1:])\n",
    "happyModel3.compile(optimizer='Adam', loss='binary_crossentropy', metrics=[\"accuracy\"])"
   ]
  },
  {
   "cell_type": "code",
   "execution_count": 37,
   "metadata": {},
   "outputs": [
    {
     "name": "stdout",
     "output_type": "stream",
     "text": [
      "Epoch 1/30\n",
      "600/600 [==============================] - 6s 11ms/step - loss: 2.1701 - acc: 0.6100\n",
      "Epoch 2/30\n",
      "600/600 [==============================] - 6s 10ms/step - loss: 0.3313 - acc: 0.8667\n",
      "Epoch 3/30\n",
      "600/600 [==============================] - 6s 11ms/step - loss: 0.2077 - acc: 0.9183\n",
      "Epoch 4/30\n",
      "600/600 [==============================] - 6s 10ms/step - loss: 0.1481 - acc: 0.9417\n",
      "Epoch 5/30\n",
      "600/600 [==============================] - 6s 10ms/step - loss: 0.1047 - acc: 0.9683\n",
      "Epoch 6/30\n",
      "600/600 [==============================] - 6s 10ms/step - loss: 0.0853 - acc: 0.9750\n",
      "Epoch 7/30\n",
      "600/600 [==============================] - 6s 11ms/step - loss: 0.0805 - acc: 0.9767\n",
      "Epoch 8/30\n",
      "600/600 [==============================] - 6s 10ms/step - loss: 0.0782 - acc: 0.9650\n",
      "Epoch 9/30\n",
      "600/600 [==============================] - 6s 10ms/step - loss: 0.0666 - acc: 0.9750\n",
      "Epoch 10/30\n",
      "600/600 [==============================] - 6s 10ms/step - loss: 0.0715 - acc: 0.9783\n",
      "Epoch 11/30\n",
      "600/600 [==============================] - 6s 10ms/step - loss: 0.0515 - acc: 0.9867\n",
      "Epoch 12/30\n",
      "600/600 [==============================] - 6s 10ms/step - loss: 0.0783 - acc: 0.9800\n",
      "Epoch 13/30\n",
      "600/600 [==============================] - 6s 10ms/step - loss: 0.0814 - acc: 0.9750\n",
      "Epoch 14/30\n",
      "600/600 [==============================] - 6s 10ms/step - loss: 0.0431 - acc: 0.9900\n",
      "Epoch 15/30\n",
      "600/600 [==============================] - 6s 10ms/step - loss: 0.0310 - acc: 0.9900\n",
      "Epoch 16/30\n",
      "600/600 [==============================] - 6s 10ms/step - loss: 0.0488 - acc: 0.9817\n",
      "Epoch 17/30\n",
      "600/600 [==============================] - 6s 10ms/step - loss: 0.0418 - acc: 0.9917\n",
      "Epoch 18/30\n",
      "600/600 [==============================] - 6s 10ms/step - loss: 0.0256 - acc: 0.9933\n",
      "Epoch 19/30\n",
      "600/600 [==============================] - 6s 10ms/step - loss: 0.0354 - acc: 0.9883\n",
      "Epoch 20/30\n",
      "600/600 [==============================] - 6s 10ms/step - loss: 0.0274 - acc: 0.9883\n",
      "Epoch 21/30\n",
      "600/600 [==============================] - 6s 10ms/step - loss: 0.0377 - acc: 0.9850\n",
      "Epoch 22/30\n",
      "600/600 [==============================] - 6s 10ms/step - loss: 0.0262 - acc: 0.9950\n",
      "Epoch 23/30\n",
      "600/600 [==============================] - 6s 10ms/step - loss: 0.0287 - acc: 0.9883\n",
      "Epoch 24/30\n",
      "600/600 [==============================] - 6s 10ms/step - loss: 0.0232 - acc: 0.9917\n",
      "Epoch 25/30\n",
      "600/600 [==============================] - 6s 10ms/step - loss: 0.0503 - acc: 0.9867\n",
      "Epoch 26/30\n",
      "600/600 [==============================] - 6s 10ms/step - loss: 0.0702 - acc: 0.9767\n",
      "Epoch 27/30\n",
      "600/600 [==============================] - 6s 10ms/step - loss: 0.0452 - acc: 0.9850\n",
      "Epoch 28/30\n",
      "600/600 [==============================] - 6s 10ms/step - loss: 0.0794 - acc: 0.9700\n",
      "Epoch 29/30\n",
      "600/600 [==============================] - 6s 10ms/step - loss: 0.0418 - acc: 0.9900\n",
      "Epoch 30/30\n",
      "600/600 [==============================] - 6s 10ms/step - loss: 0.0463 - acc: 0.9867\n"
     ]
    }
   ],
   "source": [
    "# THistory (Train History)\n",
    "THistory3 = happyModel3.fit(X_train,Y_train, epochs=30,batch_size=30)"
   ]
  },
  {
   "cell_type": "code",
   "execution_count": 38,
   "metadata": {},
   "outputs": [
    {
     "data": {
      "text/plain": [
       "<matplotlib.legend.Legend at 0x1536f956c08>"
      ]
     },
     "execution_count": 38,
     "metadata": {},
     "output_type": "execute_result"
    },
    {
     "data": {
      "image/png": "[encoded data removed]",
      "text/plain": [
       "<Figure size 432x288 with 1 Axes>"
      ]
     },
     "metadata": {
      "needs_background": "light"
     },
     "output_type": "display_data"
    },
    {
     "data": {
      "image/png": "[encoded data removed]",
      "text/plain": [
       "<Figure size 432x288 with 1 Axes>"
      ]
     },
     "metadata": {
      "needs_background": "light"
     },
     "output_type": "display_data"
    }
   ],
   "source": [
    "train_accuracy = THistory3.history['acc']\n",
    "train_loss = THistory3.history['loss']\n",
    "\n",
    "iterations = range(len(train_accuracy))\n",
    "plt.plot(iterations, train_accuracy, label='Training accuracy')\n",
    "plt.title('epochs vs Training accuracy')\n",
    "plt.legend()\n",
    "\n",
    "plt.figure()\n",
    "plt.plot(iterations, train_loss, label='Training Loss')\n",
    "plt.title('epochs vs Training Loss')\n",
    "plt.legend()"
   ]
  },
  {
   "cell_type": "code",
   "execution_count": 39,
   "metadata": {},
   "outputs": [
    {
     "name": "stdout",
     "output_type": "stream",
     "text": [
      "150/150 [==============================] - 1s 4ms/step\n",
      "\n",
      "Loss = 0.09540955384572347\n",
      "Test Accuracy = 0.9533333309491475\n"
     ]
    }
   ],
   "source": [
    "preds = happyModel3.evaluate(x=X_test, y=Y_test)\n",
    "\n",
    "print()\n",
    "print (\"Loss = \" + str(preds[0]))\n",
    "print (\"Test Accuracy = \" + str(preds[1]))"
   ]
  },
  {
   "cell_type": "code",
   "execution_count": 40,
   "metadata": {},
   "outputs": [],
   "source": [
    "happyModel2 = HappyModel(X_train[0].shape)\n",
    "happyModel2.compile(optimizer='Adam', loss='binary_crossentropy', metrics=[\"accuracy\"])"
   ]
  },
  {
   "cell_type": "code",
   "execution_count": 41,
   "metadata": {},
   "outputs": [
    {
     "name": "stdout",
     "output_type": "stream",
     "text": [
      "Epoch 1/40\n",
      "600/600 [==============================] - 7s 12ms/step - loss: 1.3407 - acc: 0.6967\n",
      "Epoch 2/40\n",
      "600/600 [==============================] - 6s 10ms/step - loss: 0.3615 - acc: 0.8567\n",
      "Epoch 3/40\n",
      "600/600 [==============================] - 6s 10ms/step - loss: 0.2094 - acc: 0.9317\n",
      "Epoch 4/40\n",
      "600/600 [==============================] - 6s 9ms/step - loss: 0.1040 - acc: 0.9617\n",
      "Epoch 5/40\n",
      "600/600 [==============================] - 6s 9ms/step - loss: 0.1233 - acc: 0.9517\n",
      "Epoch 6/40\n",
      "600/600 [==============================] - 6s 9ms/step - loss: 0.0840 - acc: 0.9750\n",
      "Epoch 7/40\n",
      "600/600 [==============================] - 6s 10ms/step - loss: 0.1383 - acc: 0.9517\n",
      "Epoch 8/40\n",
      "600/600 [==============================] - 6s 10ms/step - loss: 0.1432 - acc: 0.9417\n",
      "Epoch 9/40\n",
      "600/600 [==============================] - 6s 11ms/step - loss: 0.1443 - acc: 0.9633\n",
      "Epoch 10/40\n",
      "600/600 [==============================] - 6s 10ms/step - loss: 0.0776 - acc: 0.9717\n",
      "Epoch 11/40\n",
      "600/600 [==============================] - 6s 10ms/step - loss: 0.1587 - acc: 0.9350\n",
      "Epoch 12/40\n",
      "600/600 [==============================] - 6s 10ms/step - loss: 0.1161 - acc: 0.9550\n",
      "Epoch 13/40\n",
      "600/600 [==============================] - 6s 11ms/step - loss: 0.0950 - acc: 0.9667\n",
      "Epoch 14/40\n",
      "600/600 [==============================] - 6s 10ms/step - loss: 0.1406 - acc: 0.9550\n",
      "Epoch 15/40\n",
      "600/600 [==============================] - 6s 10ms/step - loss: 0.1158 - acc: 0.9683\n",
      "Epoch 16/40\n",
      "600/600 [==============================] - 6s 10ms/step - loss: 0.0795 - acc: 0.9683\n",
      "Epoch 17/40\n",
      "600/600 [==============================] - 6s 9ms/step - loss: 0.0443 - acc: 0.9867\n",
      "Epoch 18/40\n",
      "600/600 [==============================] - 6s 9ms/step - loss: 0.0744 - acc: 0.9833\n",
      "Epoch 19/40\n",
      "600/600 [==============================] - 6s 9ms/step - loss: 0.0667 - acc: 0.9800\n",
      "Epoch 20/40\n",
      "600/600 [==============================] - 6s 9ms/step - loss: 0.0367 - acc: 0.9917\n",
      "Epoch 21/40\n",
      "600/600 [==============================] - 6s 9ms/step - loss: 0.0414 - acc: 0.9833\n",
      "Epoch 22/40\n",
      "600/600 [==============================] - 6s 10ms/step - loss: 0.1365 - acc: 0.9550\n",
      "Epoch 23/40\n",
      "600/600 [==============================] - 7s 11ms/step - loss: 0.0396 - acc: 0.9883\n",
      "Epoch 24/40\n",
      "600/600 [==============================] - 6s 10ms/step - loss: 0.0399 - acc: 0.9867\n",
      "Epoch 25/40\n",
      "600/600 [==============================] - 6s 10ms/step - loss: 0.0716 - acc: 0.9767\n",
      "Epoch 26/40\n",
      "600/600 [==============================] - 6s 10ms/step - loss: 0.1586 - acc: 0.9517\n",
      "Epoch 27/40\n",
      "600/600 [==============================] - 6s 11ms/step - loss: 0.0867 - acc: 0.9767\n",
      "Epoch 28/40\n",
      "600/600 [==============================] - 6s 9ms/step - loss: 0.0498 - acc: 0.9867\n",
      "Epoch 29/40\n",
      "600/600 [==============================] - 6s 9ms/step - loss: 0.0426 - acc: 0.9917\n",
      "Epoch 30/40\n",
      "600/600 [==============================] - 6s 10ms/step - loss: 0.0534 - acc: 0.9833\n",
      "Epoch 31/40\n",
      "600/600 [==============================] - 6s 10ms/step - loss: 0.1250 - acc: 0.9650\n",
      "Epoch 32/40\n",
      "600/600 [==============================] - 6s 10ms/step - loss: 0.0820 - acc: 0.9783\n",
      "Epoch 33/40\n",
      "600/600 [==============================] - 6s 10ms/step - loss: 0.0746 - acc: 0.9817\n",
      "Epoch 34/40\n",
      "600/600 [==============================] - 6s 10ms/step - loss: 0.1308 - acc: 0.9650\n",
      "Epoch 35/40\n",
      "600/600 [==============================] - 6s 10ms/step - loss: 0.2365 - acc: 0.9500\n",
      "Epoch 36/40\n",
      "600/600 [==============================] - 6s 10ms/step - loss: 0.1535 - acc: 0.9717\n",
      "Epoch 37/40\n",
      "600/600 [==============================] - 6s 10ms/step - loss: 0.0879 - acc: 0.9750\n",
      "Epoch 38/40\n",
      "600/600 [==============================] - 6s 10ms/step - loss: 0.0336 - acc: 0.9883\n",
      "Epoch 39/40\n",
      "600/600 [==============================] - 6s 10ms/step - loss: 0.0964 - acc: 0.9767\n",
      "Epoch 40/40\n",
      "600/600 [==============================] - 6s 10ms/step - loss: 0.0604 - acc: 0.9917\n"
     ]
    }
   ],
   "source": [
    "THistory2 = happyModel2.fit(X_train,Y_train, epochs=40,batch_size=16)"
   ]
  },
  {
   "cell_type": "code",
   "execution_count": 42,
   "metadata": {},
   "outputs": [
    {
     "data": {
      "text/plain": [
       "<matplotlib.legend.Legend at 0x15363cede88>"
      ]
     },
     "execution_count": 42,
     "metadata": {},
     "output_type": "execute_result"
    },
    {
     "data": {
      "image/png": "[encoded data removed]",
      "text/plain": [
       "<Figure size 432x288 with 1 Axes>"
      ]
     },
     "metadata": {
      "needs_background": "light"
     },
     "output_type": "display_data"
    },
    {
     "data": {
      "image/png": "[encoded data removed]",
      "text/plain": [
       "<Figure size 432x288 with 1 Axes>"
      ]
     },
     "metadata": {
      "needs_background": "light"
     },
     "output_type": "display_data"
    }
   ],
   "source": [
    "train_accuracy = THistory2.history['acc']\n",
    "train_loss = THistory2.history['loss']\n",
    "\n",
    "iterations = range(len(train_accuracy))\n",
    "plt.plot(iterations, train_accuracy, label='Training accuracy')\n",
    "plt.title('epochs vs Training accuracy')\n",
    "plt.legend()\n",
    "\n",
    "plt.figure()\n",
    "plt.plot(iterations, train_loss, label='Training Loss')\n",
    "plt.title('epochs vs Training Loss')\n",
    "plt.legend()"
   ]
  },
  {
   "cell_type": "code",
   "execution_count": 43,
   "metadata": {},
   "outputs": [
    {
     "name": "stdout",
     "output_type": "stream",
     "text": [
      "150/150 [==============================] - 1s 5ms/step\n",
      "\n",
      "Loss = 0.14446162104606627\n",
      "Test Accuracy = 0.9533333309491475\n"
     ]
    }
   ],
   "source": [
    "preds2 = happyModel2.evaluate(x=X_test, y=Y_test)\n",
    "\n",
    "print()\n",
    "print (\"Loss = \" + str(preds2[0]))\n",
    "print (\"Test Accuracy = \" + str(preds2[1]))"
   ]
  },
  {
   "cell_type": "markdown",
   "metadata": {},
   "source": [
    "#### Predicting using LeNet-5"
   ]
  },
  {
   "cell_type": "code",
   "execution_count": 44,
   "metadata": {},
   "outputs": [],
   "source": [
    "# Building LeNet-5 \n",
    "def create_model():\n",
    "    model = Sequential()\n",
    "    model.add(layers.Conv2D(filters=1, kernel_size=(1,1), strides=(2,2), name='Conv2D', input_shape=(64,64,3))) # For converting image to 32,32,1\n",
    "    model.add(layers.Conv2D(filters=6, kernel_size=(5, 5), activation='relu'))\n",
    "    model.add(layers.AveragePooling2D())\n",
    "\n",
    "    model.add(layers.Conv2D(filters=16, kernel_size=(5, 5), activation='relu'))\n",
    "    model.add(layers.AveragePooling2D())\n",
    "\n",
    "    model.add(layers.Flatten())\n",
    "\n",
    "    model.add(layers.Dense(units=120, activation='relu'))\n",
    "\n",
    "    model.add(layers.Dense(units=84, activation='relu'))\n",
    "\n",
    "    model.add(layers.Dense(units=1, activation = 'sigmoid'))\n",
    "    \n",
    "    return model"
   ]
  },
  {
   "cell_type": "code",
   "execution_count": 45,
   "metadata": {},
   "outputs": [
    {
     "name": "stdout",
     "output_type": "stream",
     "text": [
      "Model: \"sequential_1\"\n",
      "_________________________________________________________________\n",
      "Layer (type)                 Output Shape              Param #   \n",
      "=================================================================\n",
      "Conv2D (Conv2D)              (None, 32, 32, 1)         4         \n",
      "_________________________________________________________________\n",
      "conv2d_1 (Conv2D)            (None, 28, 28, 6)         156       \n",
      "_________________________________________________________________\n",
      "average_pooling2d_1 (Average (None, 14, 14, 6)         0         \n",
      "_________________________________________________________________\n",
      "conv2d_2 (Conv2D)            (None, 10, 10, 16)        2416      \n",
      "_________________________________________________________________\n",
      "average_pooling2d_2 (Average (None, 5, 5, 16)          0         \n",
      "_________________________________________________________________\n",
      "flatten_10 (Flatten)         (None, 400)               0         \n",
      "_________________________________________________________________\n",
      "dense_1 (Dense)              (None, 120)               48120     \n",
      "_________________________________________________________________\n",
      "dense_2 (Dense)              (None, 84)                10164     \n",
      "_________________________________________________________________\n",
      "dense_3 (Dense)              (None, 1)                 85        \n",
      "=================================================================\n",
      "Total params: 60,945\n",
      "Trainable params: 60,945\n",
      "Non-trainable params: 0\n",
      "_________________________________________________________________\n"
     ]
    }
   ],
   "source": [
    "model = create_model()\n",
    "model.summary()"
   ]
  },
  {
   "cell_type": "code",
   "execution_count": 56,
   "metadata": {},
   "outputs": [],
   "source": [
    "# plot_model(model, to_file='HappyModel.png')\n",
    "# SVG(model_to_dot(model).create(prog='dot', format='svg'))"
   ]
  },
  {
   "cell_type": "code",
   "execution_count": 47,
   "metadata": {},
   "outputs": [
    {
     "name": "stdout",
     "output_type": "stream",
     "text": [
      "Epoch 1/20\n",
      "600/600 [==============================] - 1s 2ms/step - loss: 0.6883 - acc: 0.5450\n",
      "Epoch 2/20\n",
      "600/600 [==============================] - 0s 485us/step - loss: 0.6647 - acc: 0.6483\n",
      "Epoch 3/20\n",
      "600/600 [==============================] - 0s 475us/step - loss: 0.5787 - acc: 0.7183\n",
      "Epoch 4/20\n",
      "600/600 [==============================] - 0s 480us/step - loss: 0.4997 - acc: 0.7583\n",
      "Epoch 5/20\n",
      "600/600 [==============================] - 0s 484us/step - loss: 0.4230 - acc: 0.7967\n",
      "Epoch 6/20\n",
      "600/600 [==============================] - 0s 532us/step - loss: 0.3378 - acc: 0.8783\n",
      "Epoch 7/20\n",
      "600/600 [==============================] - 0s 484us/step - loss: 0.2804 - acc: 0.8850\n",
      "Epoch 8/20\n",
      "600/600 [==============================] - 0s 475us/step - loss: 0.2359 - acc: 0.9100\n",
      "Epoch 9/20\n",
      "600/600 [==============================] - 0s 472us/step - loss: 0.2589 - acc: 0.8750\n",
      "Epoch 10/20\n",
      "600/600 [==============================] - 0s 468us/step - loss: 0.1943 - acc: 0.9350\n",
      "Epoch 11/20\n",
      "600/600 [==============================] - 0s 473us/step - loss: 0.1788 - acc: 0.9317\n",
      "Epoch 12/20\n",
      "600/600 [==============================] - 0s 467us/step - loss: 0.1944 - acc: 0.9300\n",
      "Epoch 13/20\n",
      "600/600 [==============================] - 0s 474us/step - loss: 0.1539 - acc: 0.9400\n",
      "Epoch 14/20\n",
      "600/600 [==============================] - 0s 517us/step - loss: 0.1497 - acc: 0.9433\n",
      "Epoch 15/20\n",
      "600/600 [==============================] - 0s 504us/step - loss: 0.1340 - acc: 0.9483\n",
      "Epoch 16/20\n",
      "600/600 [==============================] - 0s 472us/step - loss: 0.1217 - acc: 0.9567\n",
      "Epoch 17/20\n",
      "600/600 [==============================] - 0s 467us/step - loss: 0.1144 - acc: 0.9600\n",
      "Epoch 18/20\n",
      "600/600 [==============================] - 0s 467us/step - loss: 0.1321 - acc: 0.9500\n",
      "Epoch 19/20\n",
      "600/600 [==============================] - 0s 500us/step - loss: 0.1439 - acc: 0.9500\n",
      "Epoch 20/20\n",
      "600/600 [==============================] - 0s 494us/step - loss: 0.1184 - acc: 0.9583\n"
     ]
    },
    {
     "data": {
      "text/plain": [
       "<matplotlib.legend.Legend at 0x15372a14188>"
      ]
     },
     "execution_count": 47,
     "metadata": {},
     "output_type": "execute_result"
    },
    {
     "data": {
      "image/png": "[encoded data removed]",
      "text/plain": [
       "<Figure size 432x288 with 1 Axes>"
      ]
     },
     "metadata": {
      "needs_background": "light"
     },
     "output_type": "display_data"
    },
    {
     "data": {
      "image/png": "[encoded data removed]",
      "text/plain": [
       "<Figure size 432x288 with 1 Axes>"
      ]
     },
     "metadata": {
      "needs_background": "light"
     },
     "output_type": "display_data"
    }
   ],
   "source": [
    "lenet5 = create_model()\n",
    "lenet5.compile(optimizer='Adam', loss='binary_crossentropy', metrics=[\"accuracy\"])\n",
    "history = lenet5.fit(X_train,Y_train, epochs=20,batch_size=32)\n",
    "\n",
    "train_accuracy = history.history['acc']\n",
    "train_loss = history.history['loss']\n",
    "\n",
    "iterations = range(len(train_accuracy))\n",
    "plt.plot(iterations, train_accuracy, label='Training accuracy')\n",
    "plt.title('epochs vs Training accuracy')\n",
    "plt.legend()\n",
    "\n",
    "plt.figure()\n",
    "plt.plot(iterations, train_loss, label='Training Loss')\n",
    "plt.title('epochs vs Training Loss')\n",
    "plt.legend()"
   ]
  },
  {
   "cell_type": "code",
   "execution_count": 48,
   "metadata": {},
   "outputs": [
    {
     "name": "stdout",
     "output_type": "stream",
     "text": [
      "150/150 [==============================] - 0s 1ms/step\n",
      "\n",
      "Loss = 0.2293972412745158\n",
      "Test Accuracy = 0.9266666706403096\n"
     ]
    }
   ],
   "source": [
    "preds = lenet5.evaluate(x=X_test, y=Y_test)\n",
    "\n",
    "print (\"\\nLoss = \" + str(preds[0]))\n",
    "print (\"Test Accuracy = \" + str(preds[1]))"
   ]
  }
 ],
 "metadata": {
  "kernelspec": {
   "display_name": "gputest",
   "language": "python",
   "name": "gputest"
  },
  "language_info": {
   "codemirror_mode": {
    "name": "ipython",
    "version": 3
   },
   "file_extension": ".py",
   "mimetype": "text/x-python",
   "name": "python",
   "nbconvert_exporter": "python",
   "pygments_lexer": "ipython3",
   "version": "3.7.5"
  }
 },
 "nbformat": 4,
 "nbformat_minor": 4
}
